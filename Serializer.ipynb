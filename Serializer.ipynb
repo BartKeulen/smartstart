{
 "cells": [
  {
   "cell_type": "code",
   "execution_count": 1,
   "metadata": {
    "collapsed": false
   },
   "outputs": [
    {
     "name": "stdout",
     "output_type": "stream",
     "text": [
      "Summary(num_episodes=5, average_reward=0.05)\n",
      "Episode(length=100, total_reward=6.11, average_reward=0.06)\n",
      "Episode(length=100, total_reward=3.69, average_reward=0.04)\n",
      "Episode(length=100, total_reward=0.63, average_reward=0.01)\n",
      "Episode(length=100, total_reward=-1.36, average_reward=-0.01)\n",
      "Episode(length=100, total_reward=-8.82, average_reward=-0.09)\n"
     ]
    }
   ],
   "source": [
    "from utilities.datacontainers import Summary, Episode\n",
    "\n",
    "import numpy as np\n",
    "\n",
    "summary = Summary('Test')\n",
    "for i in range(5):\n",
    "    episode = Episode()\n",
    "    for _ in range(100):\n",
    "        episode.append(np.random.randn(2), np.random.randn(1), np.random.randn(1)[0], np.random.randn(2), False)\n",
    "    summary.append(episode)\n",
    "    \n",
    "print(summary)\n",
    "for episode in summary._episodes:\n",
    "    print(episode)"
   ]
  },
  {
   "cell_type": "code",
   "execution_count": 2,
   "metadata": {
    "collapsed": false
   },
   "outputs": [],
   "source": [
    "json_summary = summary.to_json()"
   ]
  },
  {
   "cell_type": "code",
   "execution_count": 3,
   "metadata": {
    "collapsed": false,
    "scrolled": true
   },
   "outputs": [],
   "source": [
    "new_summary = Summary.from_json(json_summary)"
   ]
  },
  {
   "cell_type": "code",
   "execution_count": 4,
   "metadata": {
    "collapsed": false,
    "scrolled": true
   },
   "outputs": [
    {
     "name": "stdout",
     "output_type": "stream",
     "text": [
      "Summary(num_episodes=5, average_reward=0.05)\n",
      "Episode(length=100, total_reward=6.11, average_reward=0.06)\n",
      "Episode(length=100, total_reward=3.69, average_reward=0.04)\n",
      "Episode(length=100, total_reward=0.63, average_reward=0.01)\n",
      "Episode(length=100, total_reward=-1.36, average_reward=-0.01)\n",
      "Episode(length=100, total_reward=-8.82, average_reward=-0.09)\n"
     ]
    }
   ],
   "source": [
    "print(new_summary)\n",
    "for episode in new_summary._episodes:\n",
    "    print(episode)"
   ]
  },
  {
   "cell_type": "code",
   "execution_count": 5,
   "metadata": {
    "collapsed": false
   },
   "outputs": [],
   "source": [
    "fp = summary.save('/home/bartkeulen/repositories/smartstart/data/tmp/')"
   ]
  },
  {
   "cell_type": "code",
   "execution_count": 6,
   "metadata": {
    "collapsed": false
   },
   "outputs": [],
   "source": [
    "second_summary = summary.load(fp)"
   ]
  },
  {
   "cell_type": "code",
   "execution_count": 7,
   "metadata": {
    "collapsed": false
   },
   "outputs": [
    {
     "name": "stdout",
     "output_type": "stream",
     "text": [
      "Summary(num_episodes=5, average_reward=0.05)\n",
      "Episode(length=100, total_reward=6.11, average_reward=0.06)\n",
      "Episode(length=100, total_reward=3.69, average_reward=0.04)\n",
      "Episode(length=100, total_reward=0.63, average_reward=0.01)\n",
      "Episode(length=100, total_reward=-1.36, average_reward=-0.01)\n",
      "Episode(length=100, total_reward=-8.82, average_reward=-0.09)\n"
     ]
    }
   ],
   "source": [
    "print(second_summary)\n",
    "for episode in second_summary._episodes:\n",
    "    print(episode)"
   ]
  }
 ],
 "metadata": {
  "anaconda-cloud": {},
  "kernelspec": {
   "display_name": "Python [default]",
   "language": "python",
   "name": "python3"
  },
  "language_info": {
   "codemirror_mode": {
    "name": "ipython",
    "version": 3
   },
   "file_extension": ".py",
   "mimetype": "text/x-python",
   "name": "python",
   "nbconvert_exporter": "python",
   "pygments_lexer": "ipython3",
   "version": "3.5.2"
  }
 },
 "nbformat": 4,
 "nbformat_minor": 2
}
