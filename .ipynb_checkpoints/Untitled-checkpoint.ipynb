{
 "cells": [
  {
   "cell_type": "code",
   "execution_count": 1,
   "metadata": {
    "collapsed": true
   },
   "outputs": [],
   "source": [
    "from utilities.datacontainer import Episode, Summary\n",
    "\n",
    "import numpy as np\n",
    "\n",
    "summary = Summary()\n",
    "\n",
    "for j in range(5):\n",
    "    ep = Episode()\n",
    "    for i in range(150):\n",
    "        ep.append(np.random.randn(4), np.random.randn(2), np.random.randn(1), np.random.randn(4), False)\n",
    "    summary.append(ep)"
   ]
  },
  {
   "cell_type": "code",
   "execution_count": 2,
   "metadata": {},
   "outputs": [
    {
     "name": "stdout",
     "output_type": "stream",
     "text": [
      "Episode(length=150, total_reward=14.09, average_reward=0.09)\n"
     ]
    }
   ],
   "source": [
    "summary"
   ]
  }
 ],
 "metadata": {
  "kernelspec": {
   "display_name": "Python 3",
   "language": "python",
   "name": "python3"
  },
  "language_info": {
   "codemirror_mode": {
    "name": "ipython",
    "version": 3
   },
   "file_extension": ".py",
   "mimetype": "text/x-python",
   "name": "python",
   "nbconvert_exporter": "python",
   "pygments_lexer": "ipython3",
   "version": "3.5.2"
  },
  "widgets": {
   "state": {},
   "version": "1.1.2"
  }
 },
 "nbformat": 4,
 "nbformat_minor": 2
}
