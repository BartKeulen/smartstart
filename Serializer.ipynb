{
 "cells": [
  {
   "cell_type": "code",
   "execution_count": 1,
   "metadata": {},
   "outputs": [
    {
     "name": "stdout",
     "output_type": "stream",
     "text": [
      "{'y': -7, '_Serializable__args': (10, -7, 3), 'z': 3, 'x': [<__main__.Vector2D object at 0x7ff065ff5198>, <__main__.Vector2D object at 0x7ff065ff5208>]}\n",
      "3\n"
     ]
    }
   ],
   "source": [
    "from utilities.serializer import Serializable, deserialize\n",
    "\n",
    "class Vector2D(Serializable):\n",
    "    def __init__(self, x, y):\n",
    "        super().__init__(x, y)\n",
    "        self.x = x\n",
    "        self.y = y\n",
    "\n",
    "class Vector3D(Serializable):\n",
    "    def __init__(self, x, y, z):\n",
    "        super().__init__(x, y, z)          \n",
    "        self.x, self.y, self.z = x, y, z\n",
    "        \n",
    "        \n",
    "v3 = Vector3D(10, -7, 3)\n",
    "v1 = Vector2D(3, 4)\n",
    "v2 = Vector2D(5, 6)\n",
    "v3.x = [v1, v2]\n",
    "print(v3.__dict__)\n",
    "print(v3.x[0].x)"
   ]
  },
  {
   "cell_type": "code",
   "execution_count": 2,
   "metadata": {},
   "outputs": [
    {
     "name": "stdout",
     "output_type": "stream",
     "text": [
      "b'\\x80\\x03}q\\x00(X\\x04\\x00\\x00\\x00argsq\\x01K\\nJ\\xf9\\xff\\xff\\xffK\\x03\\x87q\\x02X\\x05\\x00\\x00\\x00classq\\x03X\\x08\\x00\\x00\\x00Vector3Dq\\x04X\\x04\\x00\\x00\\x00dictq\\x05}q\\x06(X\\x01\\x00\\x00\\x00yq\\x07J\\xf9\\xff\\xff\\xffX\\x13\\x00\\x00\\x00_Serializable__argsq\\x08h\\x02X\\x01\\x00\\x00\\x00zq\\tK\\x03X\\x01\\x00\\x00\\x00xq\\n]q\\x0b(c__main__\\nVector2D\\nq\\x0c)\\x81q\\r}q\\x0e(h\\x07K\\x04h\\nK\\x03h\\x08K\\x03K\\x04\\x86q\\x0fubh\\x0c)\\x81q\\x10}q\\x11(h\\x07K\\x06h\\nK\\x05h\\x08K\\x05K\\x06\\x86q\\x12ubeuu.'\n"
     ]
    }
   ],
   "source": [
    "data = v3.serialize()\n",
    "print(data)"
   ]
  },
  {
   "cell_type": "code",
   "execution_count": 3,
   "metadata": {
    "scrolled": true
   },
   "outputs": [
    {
     "name": "stdout",
     "output_type": "stream",
     "text": [
      "{'y': -7, '_Serializable__args': (10, -7, 3), 'z': 3, 'x': [<__main__.Vector2D object at 0x7ff065ff5b00>, <__main__.Vector2D object at 0x7ff065ff5b70>]}\n",
      "3\n"
     ]
    }
   ],
   "source": [
    "v3_new = deserialize(data)\n",
    "print(v3_new.__dict__)\n",
    "print(v3_new.x[0].x)\n"
   ]
  }
 ],
 "metadata": {
  "kernelspec": {
   "display_name": "Python 3",
   "language": "python",
   "name": "python3"
  },
  "language_info": {
   "codemirror_mode": {
    "name": "ipython",
    "version": 3
   },
   "file_extension": ".py",
   "mimetype": "text/x-python",
   "name": "python",
   "nbconvert_exporter": "python",
   "pygments_lexer": "ipython3",
   "version": "3.5.2"
  },
  "widgets": {
   "state": {},
   "version": "1.1.2"
  }
 },
 "nbformat": 4,
 "nbformat_minor": 2
}
