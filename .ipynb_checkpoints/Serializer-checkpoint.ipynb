{
 "cells": [
  {
   "cell_type": "code",
   "execution_count": 1,
   "metadata": {},
   "outputs": [
    {
     "name": "stdout",
     "output_type": "stream",
     "text": [
      "{'_Serializable__args': (10, -7, 3), 'x': <__main__.Vector2D object at 0x7fe33c288ef0>, 'y': '2', 'z': 3}\n"
     ]
    }
   ],
   "source": [
    "from utilities.serializer import Serializable, deserialize\n",
    "\n",
    "class Vector2D(Serializable):\n",
    "    def __init__(self, x, y):\n",
    "        super().__init__(x, y)\n",
    "        self.x = x\n",
    "        self.y = y\n",
    "\n",
    "class Vector3D(Serializable):\n",
    "    def __init__(self, x, y, z):\n",
    "        super().__init__(x, y, z)          \n",
    "        self.x, self.y, self.z = x, y, z\n",
    "        \n",
    "        \n",
    "v2 = Vector2D(3, 4)\n",
    "v2 = Vector2D(5, 6)\n",
    "v3 = Vector3D(10, -7, 3)\n",
    "v3.x = [v2, v3]\n",
    "print(v3.__dict__)"
   ]
  },
  {
   "cell_type": "code",
   "execution_count": 2,
   "metadata": {},
   "outputs": [
    {
     "name": "stdout",
     "output_type": "stream",
     "text": [
      "{\"class\": \"Vector3D\", \"dict\": {\"_Serializable__args\": [10, -7, 3], \"x\": \"{\\\"class\\\": \\\"Vector2D\\\", \\\"dict\\\": {\\\"y\\\": 4, \\\"_Serializable__args\\\": [3, 4], \\\"x\\\": 3}, \\\"args\\\": [3, 4]}\", \"y\": \"2\", \"z\": 3}, \"args\": [10, -7, 3]}\n"
     ]
    }
   ],
   "source": [
    "data = v3.serialize()\n",
    "print(data)"
   ]
  },
  {
   "cell_type": "code",
   "execution_count": 3,
   "metadata": {},
   "outputs": [
    {
     "name": "stdout",
     "output_type": "stream",
     "text": [
      "{'y': '2', '_Serializable__args': [10, -7, 3], 'z': 3, 'x': '{\"class\": \"Vector2D\", \"dict\": {\"y\": 4, \"_Serializable__args\": [3, 4], \"x\": 3}, \"args\": [3, 4]}'}\n",
      "exception for  2\n",
      "{'y': 4, '_Serializable__args': [3, 4], 'x': 3}\n",
      "{'y': '2', '_Serializable__args': [10, -7, 3], 'z': 3, 'x': <__main__.Vector2D object at 0x7fe33c288128>}\n"
     ]
    }
   ],
   "source": [
    "print(deserialize(data).__dict__)"
   ]
  }
 ],
 "metadata": {
  "kernelspec": {
   "display_name": "Python 3",
   "language": "python",
   "name": "python3"
  },
  "language_info": {
   "codemirror_mode": {
    "name": "ipython",
    "version": 3
   },
   "file_extension": ".py",
   "mimetype": "text/x-python",
   "name": "python",
   "nbconvert_exporter": "python",
   "pygments_lexer": "ipython3",
   "version": "3.5.2"
  },
  "widgets": {
   "state": {},
   "version": "1.1.2"
  }
 },
 "nbformat": 4,
 "nbformat_minor": 2
}
