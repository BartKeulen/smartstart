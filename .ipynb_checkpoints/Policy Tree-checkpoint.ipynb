{
 "cells": [
  {
   "cell_type": "code",
   "execution_count": 1,
   "metadata": {
    "collapsed": false
   },
   "outputs": [],
   "source": [
    "import numpy as np\n",
    "from smartstart.policy import PolicyNode"
   ]
  },
  {
   "cell_type": "code",
   "execution_count": null,
   "metadata": {
    "collapsed": true
   },
   "outputs": [],
   "source": [
    "p = PolicyNode()\n",
    "\n",
    "print(p)\n",
    "print(\"\")\n",
    "print(len(p))"
   ]
  },
  {
   "cell_type": "code",
   "execution_count": null,
   "metadata": {
    "collapsed": true
   },
   "outputs": [],
   "source": [
    "p0 = PolicyNode(0, p)\n",
    "\n",
    "print(p)\n",
    "print(p0)\n",
    "print(\"\")"
   ]
  },
  {
   "cell_type": "code",
   "execution_count": null,
   "metadata": {
    "collapsed": true
   },
   "outputs": [],
   "source": [
    "p1 = PolicyNode(1, p0)\n",
    "\n",
    "print(p)\n",
    "print(p0)\n",
    "print(p1)"
   ]
  },
  {
   "cell_type": "code",
   "execution_count": 4,
   "metadata": {
    "collapsed": false,
    "scrolled": true
   },
   "outputs": [
    {
     "name": "stdout",
     "output_type": "stream",
     "text": [
      "2 None\n",
      "Policy(id=2, length=0, parent=None, children=[])\n",
      "\n",
      "3 Policy(id=2, length=0, parent=None, children=[3])\n",
      "Policy(id=2, length=0, parent=None, children=[3])\n",
      "Policy(id=3, length=0, parent=Policy(id=2, length=0, parent=None, children=[3]), children=[])\n",
      "\n",
      "4 Policy(id=3, length=0, parent=Policy(id=2, length=0, parent=None, children=[3]), children=[4])\n",
      "Policy(id=2, length=0, parent=None, children=[3])\n",
      "Policy(id=3, length=0, parent=Policy(id=2, length=0, parent=None, children=[3]), children=[4])\n",
      "Policy(id=4, length=0, parent=Policy(id=3, length=0, parent=Policy(id=2, length=0, parent=None, children=[3]), children=[4]), children=[])\n"
     ]
    }
   ],
   "source": [
    "# p2 = PolicyNode(2, p1)\n",
    "# p3 = PolicyNode(3, p2)\n",
    "\n",
    "# print(p)\n",
    "# print(p0)\n",
    "# print(p1)\n",
    "# print(p2)\n",
    "# print(p3)"
   ]
  }
 ],
 "metadata": {
  "anaconda-cloud": {},
  "kernelspec": {
   "display_name": "Python [conda env:drl]",
   "language": "python",
   "name": "conda-env-drl-py"
  },
  "language_info": {
   "codemirror_mode": {
    "name": "ipython",
    "version": 3
   },
   "file_extension": ".py",
   "mimetype": "text/x-python",
   "name": "python",
   "nbconvert_exporter": "python",
   "pygments_lexer": "ipython3",
   "version": "3.5.2"
  }
 },
 "nbformat": 4,
 "nbformat_minor": 2
}
